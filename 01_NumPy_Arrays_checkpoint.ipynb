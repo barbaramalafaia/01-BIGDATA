{
  "nbformat": 4,
  "nbformat_minor": 0,
  "metadata": {
    "colab": {
      "name": "01 - NumPy Arrays-checkpoint.ipynb",
      "version": "0.3.2",
      "provenance": [],
      "include_colab_link": true
    },
    "language_info": {
      "codemirror_mode": {
        "name": "ipython",
        "version": 3
      },
      "file_extension": ".py",
      "mimetype": "text/x-python",
      "name": "python",
      "nbconvert_exporter": "python",
      "pygments_lexer": "ipython3",
      "version": "3.5.4"
    },
    "kernelspec": {
      "display_name": "Python 3",
      "language": "python",
      "name": "python3"
    }
  },
  "cells": [
    {
      "cell_type": "markdown",
      "metadata": {
        "id": "view-in-github",
        "colab_type": "text"
      },
      "source": [
        "<a href=\"https://colab.research.google.com/github/barbaramalafaia/01-BIGDATA/blob/master/01_NumPy_Arrays_checkpoint.ipynb\" target=\"_parent\"><img src=\"https://colab.research.google.com/assets/colab-badge.svg\" alt=\"Open In Colab\"/></a>"
      ]
    },
    {
      "cell_type": "markdown",
      "metadata": {
        "id": "2dTheXinZ6wD",
        "colab_type": "text"
      },
      "source": [
        "# NumPy \n",
        "\n",
        "NumPy (ou Numpy) é uma biblioteca de álgebra linear para Python, a razão pela qual é tão importante para a Data Science com Python é que quase todas as bibliotecas dependem do NumPy como um dos seus principais blocos de construção.\n",
        "\n",
        "Numpy também é incrivelmente rápido, pois tem ligações para bibliotecas C. Para obter mais informações sobre por que você deseja usar Arrays em vez de listas, confira esta excelente publicação do [StackOverflow post](http://stackoverflow.com/questions/993984/why-numpy-instead-of-python-lists).\n",
        "\n",
        "Nós só aprenderemos os conceitos básicos do NumPy, para começar, precisamos instalá-lo!"
      ]
    },
    {
      "cell_type": "markdown",
      "metadata": {
        "id": "9zNCyYkyZ6wE",
        "colab_type": "text"
      },
      "source": [
        "## Instruções de instalação\n",
        "\n",
        "** É altamente recomendável que instale o Python usando a distribuição da Anaconda para garantir que todas as dependências subjacentes (como as bibliotecas de Álgebra Linear) se sincronizem com o uso de uma instalação conda. Se você tiver o Anaconda, instale o NumPy acessando seu terminal ou prompt de comando e digite: **\n",
        "\n",
        "    conda install numpy\n",
        "    \n",
        "** Se você não possui Anaconda e não pode instalá-lo, consulte: [Numpy's official documentation on various installation instructions.](http://docs.scipy.org/doc/numpy-1.10.1/user/install.html)**"
      ]
    },
    {
      "cell_type": "markdown",
      "metadata": {
        "id": "RdPoc40BZ6wF",
        "colab_type": "text"
      },
      "source": [
        "## Usando NumPy\n",
        "\n",
        "Depois de instalar o NumPy, você pode importá-lo como uma biblioteca:"
      ]
    },
    {
      "cell_type": "code",
      "metadata": {
        "id": "pHPRa8FyZ6wG",
        "colab_type": "code",
        "colab": {}
      },
      "source": [
        "import numpy as np"
      ],
      "execution_count": 0,
      "outputs": []
    },
    {
      "cell_type": "markdown",
      "metadata": {
        "id": "NsnJXyvKZ6wL",
        "colab_type": "text"
      },
      "source": [
        "Numpy possui muitas funções e capacidades incorporadas. Não vamos cobri-los na totalidade, mas, em vez disso, vamos nos concentrar em alguns dos aspectos mais importantes de Numpy: vetores, arrays, matrizes e geração de números. Comecemos por arrays:\n",
        "\n",
        "# Numpy Arrays\n",
        "\n",
        "As matrizes de NumPy são a maneira principal de usar Numpy ao longo do curso. Numpy arrays essencialmente vêm de duas formas: vetores e matrizes. Os vetores são estritamente arranjos de 1d e as matrizes são 2d (mas você deve observar que uma matriz ainda pode ter apenas uma linha ou uma coluna).\n",
        "\n",
        "Vamos começar nossa introdução explorando como criar matrizes numPy.\n",
        "\n",
        "\n",
        "## Criando NumPy Arrays\n",
        "\n",
        "### De uma lista de Python\n",
        "\n",
        "Podemos criar uma matriz convertendo diretamente uma lista ou lista de listas:"
      ]
    },
    {
      "cell_type": "code",
      "metadata": {
        "id": "F7YGkTW5Z6wL",
        "colab_type": "code",
        "colab": {},
        "outputId": "d40cc941-7a44-464c-c9fc-273223d5f935"
      },
      "source": [
        "minha_lista = [1,2,3]\n",
        "minha_lista"
      ],
      "execution_count": 0,
      "outputs": [
        {
          "output_type": "execute_result",
          "data": {
            "text/plain": [
              "[1, 2, 3]"
            ]
          },
          "metadata": {
            "tags": []
          },
          "execution_count": 2
        }
      ]
    },
    {
      "cell_type": "code",
      "metadata": {
        "id": "ev9ew3RXZ6wS",
        "colab_type": "code",
        "colab": {},
        "outputId": "9e3f142d-3ec5-434b-b054-5f49cf5a14d9"
      },
      "source": [
        "nparr = np.array(minha_lista)\n",
        "print(type(nparr))\n",
        "nparr"
      ],
      "execution_count": 0,
      "outputs": [
        {
          "output_type": "stream",
          "text": [
            "<class 'numpy.ndarray'>\n"
          ],
          "name": "stdout"
        },
        {
          "output_type": "execute_result",
          "data": {
            "text/plain": [
              "array([1, 2, 3])"
            ]
          },
          "metadata": {
            "tags": []
          },
          "execution_count": 6
        }
      ]
    },
    {
      "cell_type": "code",
      "metadata": {
        "id": "MhUmIbb_Z6wa",
        "colab_type": "code",
        "colab": {},
        "outputId": "dc34ee3d-f7af-4601-9eb7-61909d1b1cd2"
      },
      "source": [
        "minha_matriz = [[1,2,3],[4,5,6],[7,8,9]]\n",
        "minha_matriz"
      ],
      "execution_count": 0,
      "outputs": [
        {
          "output_type": "execute_result",
          "data": {
            "text/plain": [
              "[[1, 2, 3], [4, 5, 6], [7, 8, 9]]"
            ]
          },
          "metadata": {
            "tags": []
          },
          "execution_count": 3
        }
      ]
    },
    {
      "cell_type": "code",
      "metadata": {
        "id": "tYceuLTLZ6wh",
        "colab_type": "code",
        "colab": {},
        "outputId": "c4616a6b-96b0-42a9-d246-cdb303a238f5"
      },
      "source": [
        "matrixarr = np.array(minha_matriz)\n",
        "print(type(matrixarr))\n",
        "matrixarr"
      ],
      "execution_count": 0,
      "outputs": [
        {
          "output_type": "stream",
          "text": [
            "<class 'numpy.ndarray'>\n"
          ],
          "name": "stdout"
        },
        {
          "output_type": "execute_result",
          "data": {
            "text/plain": [
              "array([[1, 2, 3],\n",
              "       [4, 5, 6],\n",
              "       [7, 8, 9]])"
            ]
          },
          "metadata": {
            "tags": []
          },
          "execution_count": 11
        }
      ]
    },
    {
      "cell_type": "markdown",
      "metadata": {
        "id": "YIU9sUMrZ6wn",
        "colab_type": "text"
      },
      "source": [
        "## Métodos incorporados (Built-in Methods)\n",
        "\n",
        "Há muitas maneiras embutidas de gerar Arrays"
      ]
    },
    {
      "cell_type": "markdown",
      "metadata": {
        "id": "S7iSSw2oZ6wp",
        "colab_type": "text"
      },
      "source": [
        "### arange\n",
        "\n",
        "Retorna valores uniformemente espaçados dentro de um determinado intervalo."
      ]
    },
    {
      "cell_type": "code",
      "metadata": {
        "id": "YWC-aKKJZ6wq",
        "colab_type": "code",
        "colab": {},
        "outputId": "9c3c151d-c935-4dd9-c742-188f10a43785"
      },
      "source": [
        "np.arange(0,10)"
      ],
      "execution_count": 0,
      "outputs": [
        {
          "output_type": "execute_result",
          "data": {
            "text/plain": [
              "array([0, 1, 2, 3, 4, 5, 6, 7, 8, 9])"
            ]
          },
          "metadata": {
            "tags": []
          },
          "execution_count": 6
        }
      ]
    },
    {
      "cell_type": "code",
      "metadata": {
        "id": "A4Ol5YfSZ6wu",
        "colab_type": "code",
        "colab": {},
        "outputId": "2121fc71-fb3a-44f6-db8b-3a1fc90e2a09"
      },
      "source": [
        "np.arange(0,11,2)"
      ],
      "execution_count": 0,
      "outputs": [
        {
          "output_type": "execute_result",
          "data": {
            "text/plain": [
              "array([ 0,  2,  4,  6,  8, 10])"
            ]
          },
          "metadata": {
            "tags": []
          },
          "execution_count": 7
        }
      ]
    },
    {
      "cell_type": "markdown",
      "metadata": {
        "id": "-DJN9zwzZ6w1",
        "colab_type": "text"
      },
      "source": [
        "### zeros e ones\n",
        "\n",
        "Gerar matrizes de zeros ou de ums"
      ]
    },
    {
      "cell_type": "code",
      "metadata": {
        "id": "WnVcaNv3Z6w3",
        "colab_type": "code",
        "colab": {},
        "outputId": "08efd5f4-5683-4b7b-b349-11857510d6c3"
      },
      "source": [
        "np.zeros(3)"
      ],
      "execution_count": 0,
      "outputs": [
        {
          "output_type": "execute_result",
          "data": {
            "text/plain": [
              "array([0., 0., 0.])"
            ]
          },
          "metadata": {
            "tags": []
          },
          "execution_count": 8
        }
      ]
    },
    {
      "cell_type": "code",
      "metadata": {
        "id": "5ddxZJ6EZ6w7",
        "colab_type": "code",
        "colab": {},
        "outputId": "0f041604-a9d6-4c2f-fc57-f0c3da36c740"
      },
      "source": [
        "np.zeros((5,5))"
      ],
      "execution_count": 0,
      "outputs": [
        {
          "output_type": "execute_result",
          "data": {
            "text/plain": [
              "array([[0., 0., 0., 0., 0.],\n",
              "       [0., 0., 0., 0., 0.],\n",
              "       [0., 0., 0., 0., 0.],\n",
              "       [0., 0., 0., 0., 0.],\n",
              "       [0., 0., 0., 0., 0.]])"
            ]
          },
          "metadata": {
            "tags": []
          },
          "execution_count": 9
        }
      ]
    },
    {
      "cell_type": "code",
      "metadata": {
        "id": "DUyC4JJGZ6w_",
        "colab_type": "code",
        "colab": {},
        "outputId": "f9a79e4c-bfbd-42a7-a532-c0fd58f498ee"
      },
      "source": [
        "np.ones(3)"
      ],
      "execution_count": 0,
      "outputs": [
        {
          "output_type": "execute_result",
          "data": {
            "text/plain": [
              "array([1., 1., 1.])"
            ]
          },
          "metadata": {
            "tags": []
          },
          "execution_count": 10
        }
      ]
    },
    {
      "cell_type": "code",
      "metadata": {
        "id": "JDPfnjKsZ6xD",
        "colab_type": "code",
        "colab": {},
        "outputId": "e48cd6ba-b268-4e4b-fbcd-fc9ba8185013"
      },
      "source": [
        "np.ones((3,3))"
      ],
      "execution_count": 0,
      "outputs": [
        {
          "output_type": "execute_result",
          "data": {
            "text/plain": [
              "array([[1., 1., 1.],\n",
              "       [1., 1., 1.],\n",
              "       [1., 1., 1.]])"
            ]
          },
          "metadata": {
            "tags": []
          },
          "execution_count": 11
        }
      ]
    },
    {
      "cell_type": "markdown",
      "metadata": {
        "id": "rqtC1DoZZ6xH",
        "colab_type": "text"
      },
      "source": [
        "### linspace\n",
        "Retorna números uniformemente espaçados ao longo de um intervalo especificado."
      ]
    },
    {
      "cell_type": "code",
      "metadata": {
        "id": "I5U71PZuZ6xJ",
        "colab_type": "code",
        "colab": {},
        "outputId": "d8469589-080e-46fd-df8b-b2631f8a4a70"
      },
      "source": [
        "np.linspace(0,10,3)"
      ],
      "execution_count": 0,
      "outputs": [
        {
          "output_type": "execute_result",
          "data": {
            "text/plain": [
              "array([ 0.,  5., 10.])"
            ]
          },
          "metadata": {
            "tags": []
          },
          "execution_count": 12
        }
      ]
    },
    {
      "cell_type": "code",
      "metadata": {
        "id": "wsZRFrZrZ6xW",
        "colab_type": "code",
        "colab": {},
        "outputId": "10932ff1-6d5f-4ad5-8ae0-383000f6048c"
      },
      "source": [
        "np.linspace(0,10,50)"
      ],
      "execution_count": 0,
      "outputs": [
        {
          "output_type": "execute_result",
          "data": {
            "text/plain": [
              "array([ 0.        ,  0.20408163,  0.40816327,  0.6122449 ,  0.81632653,\n",
              "        1.02040816,  1.2244898 ,  1.42857143,  1.63265306,  1.83673469,\n",
              "        2.04081633,  2.24489796,  2.44897959,  2.65306122,  2.85714286,\n",
              "        3.06122449,  3.26530612,  3.46938776,  3.67346939,  3.87755102,\n",
              "        4.08163265,  4.28571429,  4.48979592,  4.69387755,  4.89795918,\n",
              "        5.10204082,  5.30612245,  5.51020408,  5.71428571,  5.91836735,\n",
              "        6.12244898,  6.32653061,  6.53061224,  6.73469388,  6.93877551,\n",
              "        7.14285714,  7.34693878,  7.55102041,  7.75510204,  7.95918367,\n",
              "        8.16326531,  8.36734694,  8.57142857,  8.7755102 ,  8.97959184,\n",
              "        9.18367347,  9.3877551 ,  9.59183673,  9.79591837, 10.        ])"
            ]
          },
          "metadata": {
            "tags": []
          },
          "execution_count": 13
        }
      ]
    },
    {
      "cell_type": "markdown",
      "metadata": {
        "id": "hU_E1NBNZ6xe",
        "colab_type": "text"
      },
      "source": [
        "## eye\n",
        "\n",
        "Cria uma matriz identidade"
      ]
    },
    {
      "cell_type": "code",
      "metadata": {
        "id": "z22lRVUmZ6xg",
        "colab_type": "code",
        "colab": {},
        "outputId": "d39f1914-38fc-46ce-aa3e-f79595305bc1"
      },
      "source": [
        "np.eye(4)"
      ],
      "execution_count": 0,
      "outputs": [
        {
          "output_type": "execute_result",
          "data": {
            "text/plain": [
              "array([[1., 0., 0., 0.],\n",
              "       [0., 1., 0., 0.],\n",
              "       [0., 0., 1., 0.],\n",
              "       [0., 0., 0., 1.]])"
            ]
          },
          "metadata": {
            "tags": []
          },
          "execution_count": 14
        }
      ]
    },
    {
      "cell_type": "markdown",
      "metadata": {
        "id": "9Xr6wm8iZ6xq",
        "colab_type": "text"
      },
      "source": [
        "## Random \n",
        "\n",
        "Numpy também tem muitas maneiras de criar arrays de números aleatórios:\n",
        "\n",
        "### rand\n",
        "Cria uma matriz da forma dada e preencha com amostras aleatórias de uma distribuição uniforme sobre ``[0, 1)``."
      ]
    },
    {
      "cell_type": "code",
      "metadata": {
        "id": "zyroD-dZZ6xs",
        "colab_type": "code",
        "colab": {},
        "outputId": "8e7817c1-9aff-4b52-e888-3808183eb838"
      },
      "source": [
        "np.random.rand(2,)"
      ],
      "execution_count": 0,
      "outputs": [
        {
          "output_type": "execute_result",
          "data": {
            "text/plain": [
              "array([0.46310211, 0.30925963])"
            ]
          },
          "metadata": {
            "tags": []
          },
          "execution_count": 15
        }
      ]
    },
    {
      "cell_type": "code",
      "metadata": {
        "id": "D-37QWPcZ6xz",
        "colab_type": "code",
        "colab": {},
        "outputId": "b090745b-25fc-4115-c2ac-82a439bc317e"
      },
      "source": [
        "np.random.rand(5,5)"
      ],
      "execution_count": 0,
      "outputs": [
        {
          "output_type": "execute_result",
          "data": {
            "text/plain": [
              "array([[0.18694886, 0.58047071, 0.09885448, 0.52358323, 0.97973963],\n",
              "       [0.60244317, 0.00605332, 0.80119635, 0.18415312, 0.85963804],\n",
              "       [0.82699932, 0.27449781, 0.22281129, 0.32124662, 0.13125923],\n",
              "       [0.64579465, 0.10076754, 0.13993052, 0.57004613, 0.47326577],\n",
              "       [0.29501505, 0.20527158, 0.10470606, 0.97003571, 0.17090201]])"
            ]
          },
          "metadata": {
            "tags": []
          },
          "execution_count": 16
        }
      ]
    },
    {
      "cell_type": "markdown",
      "metadata": {
        "id": "sHp-WbcOZ6x5",
        "colab_type": "text"
      },
      "source": [
        "### randn\n",
        "\n",
        "Retorna uma amostra (ou amostras) da distribuição \"normal\". Ao contrário de rand, que é uniforme:"
      ]
    },
    {
      "cell_type": "code",
      "metadata": {
        "id": "foyXV7YXZ6x6",
        "colab_type": "code",
        "colab": {},
        "outputId": "b733cb27-9ff3-42a8-8392-38d4eb6f265b"
      },
      "source": [
        "np.random.randn(2)"
      ],
      "execution_count": 0,
      "outputs": [
        {
          "output_type": "execute_result",
          "data": {
            "text/plain": [
              "array([-0.71523483,  0.83098276])"
            ]
          },
          "metadata": {
            "tags": []
          },
          "execution_count": 17
        }
      ]
    },
    {
      "cell_type": "code",
      "metadata": {
        "id": "5D9ylJ34Z6x-",
        "colab_type": "code",
        "colab": {}
      },
      "source": [
        "arrN = np.random.randn(5,5)"
      ],
      "execution_count": 0,
      "outputs": []
    },
    {
      "cell_type": "markdown",
      "metadata": {
        "id": "irvgZ9z-Z6yC",
        "colab_type": "text"
      },
      "source": [
        "### randint\n",
        "Retorna inteiros aleatórios de \"low\" (inclusive) para \"high\" (exclusivo)."
      ]
    },
    {
      "cell_type": "code",
      "metadata": {
        "id": "RLcfe9eeZ6yD",
        "colab_type": "code",
        "colab": {},
        "outputId": "f403eb1e-b728-41c8-e5eb-31e958d1a482"
      },
      "source": [
        "np.random.randint(1,100)"
      ],
      "execution_count": 0,
      "outputs": [
        {
          "output_type": "execute_result",
          "data": {
            "text/plain": [
              "84"
            ]
          },
          "metadata": {
            "tags": []
          },
          "execution_count": 19
        }
      ]
    },
    {
      "cell_type": "code",
      "metadata": {
        "id": "4ATb9UF_Z6yK",
        "colab_type": "code",
        "colab": {},
        "outputId": "216116a2-b1e8-488c-c587-e9f961ba2a5b"
      },
      "source": [
        "np.random.randint(1,100,10)"
      ],
      "execution_count": 0,
      "outputs": [
        {
          "output_type": "execute_result",
          "data": {
            "text/plain": [
              "array([89, 57, 91, 70, 22, 77, 74, 90, 71, 39])"
            ]
          },
          "metadata": {
            "tags": []
          },
          "execution_count": 20
        }
      ]
    },
    {
      "cell_type": "markdown",
      "metadata": {
        "id": "uLN-bSUdZ6yP",
        "colab_type": "text"
      },
      "source": [
        "## Atributos de Array e Métodos\n",
        "\n",
        "Vamos discutir alguns atributos e métodos úteis ou uma matriz:"
      ]
    },
    {
      "cell_type": "code",
      "metadata": {
        "id": "lcFKdB2AZ6yS",
        "colab_type": "code",
        "colab": {}
      },
      "source": [
        "arr = np.arange(25)\n",
        "ranarr = np.random.randint(0,50,10)"
      ],
      "execution_count": 0,
      "outputs": []
    },
    {
      "cell_type": "code",
      "metadata": {
        "id": "xviLjZkxZ6yW",
        "colab_type": "code",
        "colab": {},
        "outputId": "84fca4cc-4339-4eab-aaee-ffa1561d8ccf"
      },
      "source": [
        "arr"
      ],
      "execution_count": 0,
      "outputs": [
        {
          "output_type": "execute_result",
          "data": {
            "text/plain": [
              "array([ 0,  1,  2,  3,  4,  5,  6,  7,  8,  9, 10, 11, 12, 13, 14, 15, 16,\n",
              "       17, 18, 19, 20, 21, 22, 23, 24])"
            ]
          },
          "metadata": {
            "tags": []
          },
          "execution_count": 22
        }
      ]
    },
    {
      "cell_type": "code",
      "metadata": {
        "id": "lMekWaWoZ6yb",
        "colab_type": "code",
        "colab": {},
        "outputId": "3e51cc63-2877-47c8-a42b-66b2128eb529"
      },
      "source": [
        "ranarr"
      ],
      "execution_count": 0,
      "outputs": [
        {
          "output_type": "execute_result",
          "data": {
            "text/plain": [
              "array([27,  8, 29,  6, 10, 13, 40, 48, 45,  8])"
            ]
          },
          "metadata": {
            "tags": []
          },
          "execution_count": 23
        }
      ]
    },
    {
      "cell_type": "markdown",
      "metadata": {
        "id": "UNtA5LwPZ6yl",
        "colab_type": "text"
      },
      "source": [
        "## Reshape\n",
        "Retorna uma matriz contendo os mesmos dados com uma nova forma."
      ]
    },
    {
      "cell_type": "code",
      "metadata": {
        "id": "UCprRG7eZ6ym",
        "colab_type": "code",
        "colab": {},
        "outputId": "92790fff-e198-46ab-d815-a29ed3e491f6"
      },
      "source": [
        "print(arr.shape)\n",
        "print(ranarr.shape)"
      ],
      "execution_count": 0,
      "outputs": [
        {
          "output_type": "stream",
          "text": [
            "(25,)\n",
            "(10,)\n"
          ],
          "name": "stdout"
        }
      ]
    },
    {
      "cell_type": "code",
      "metadata": {
        "id": "xrBf7KQYZ6yp",
        "colab_type": "code",
        "colab": {},
        "outputId": "575b7385-ec20-4364-d57b-76d2625bb64e"
      },
      "source": [
        "print(arr.reshape(25,1).shape)"
      ],
      "execution_count": 0,
      "outputs": [
        {
          "output_type": "stream",
          "text": [
            "(25, 1)\n"
          ],
          "name": "stdout"
        }
      ]
    },
    {
      "cell_type": "code",
      "metadata": {
        "id": "-gsutycGZ6ys",
        "colab_type": "code",
        "colab": {},
        "outputId": "29dfdc85-ae60-4276-de36-e280fa69cf40"
      },
      "source": [
        "arr.reshape(5,5)"
      ],
      "execution_count": 0,
      "outputs": [
        {
          "output_type": "execute_result",
          "data": {
            "text/plain": [
              "array([[ 0,  1,  2,  3,  4],\n",
              "       [ 5,  6,  7,  8,  9],\n",
              "       [10, 11, 12, 13, 14],\n",
              "       [15, 16, 17, 18, 19],\n",
              "       [20, 21, 22, 23, 24]])"
            ]
          },
          "metadata": {
            "tags": []
          },
          "execution_count": 29
        }
      ]
    },
    {
      "cell_type": "markdown",
      "metadata": {
        "id": "E5OjaLJDZ6yv",
        "colab_type": "text"
      },
      "source": [
        "### max,min,argmax,argmin\n",
        "\n",
        "Estes são métodos úteis para encontrar valores máximos ou mínimos, ou para encontrar seus locais de índice usando argmin ou argmax"
      ]
    },
    {
      "cell_type": "code",
      "metadata": {
        "id": "aQvJah-lZ6yw",
        "colab_type": "code",
        "colab": {},
        "outputId": "e6e081fc-3b34-4967-f532-eaf978705cf4"
      },
      "source": [
        "ranarr"
      ],
      "execution_count": 0,
      "outputs": [
        {
          "output_type": "execute_result",
          "data": {
            "text/plain": [
              "array([27,  8, 29,  6, 10, 13, 40, 48, 45,  8])"
            ]
          },
          "metadata": {
            "tags": []
          },
          "execution_count": 30
        }
      ]
    },
    {
      "cell_type": "code",
      "metadata": {
        "id": "gReKLF19Z6yz",
        "colab_type": "code",
        "colab": {},
        "outputId": "ba475dc5-526b-4836-bea7-30a508371592"
      },
      "source": [
        "ranarr.max()"
      ],
      "execution_count": 0,
      "outputs": [
        {
          "output_type": "execute_result",
          "data": {
            "text/plain": [
              "48"
            ]
          },
          "metadata": {
            "tags": []
          },
          "execution_count": 31
        }
      ]
    },
    {
      "cell_type": "code",
      "metadata": {
        "id": "JjogJviIZ6y4",
        "colab_type": "code",
        "colab": {},
        "outputId": "c5eaf7f7-1fae-4e92-f8bc-2d6035a5d339"
      },
      "source": [
        "ranarr.argmax()"
      ],
      "execution_count": 0,
      "outputs": [
        {
          "output_type": "execute_result",
          "data": {
            "text/plain": [
              "7"
            ]
          },
          "metadata": {
            "tags": []
          },
          "execution_count": 32
        }
      ]
    },
    {
      "cell_type": "code",
      "metadata": {
        "id": "UQ2J0nQgZ6y-",
        "colab_type": "code",
        "colab": {},
        "outputId": "4155d5be-d8da-46fb-ed7c-c7c6978e7953"
      },
      "source": [
        "ranarr.min()"
      ],
      "execution_count": 0,
      "outputs": [
        {
          "output_type": "execute_result",
          "data": {
            "text/plain": [
              "6"
            ]
          },
          "metadata": {
            "tags": []
          },
          "execution_count": 33
        }
      ]
    },
    {
      "cell_type": "code",
      "metadata": {
        "id": "LYFXuHCAZ6zF",
        "colab_type": "code",
        "colab": {},
        "outputId": "2087f774-5363-4f67-b130-ae5a668cb0e8"
      },
      "source": [
        "ranarr.argmin()"
      ],
      "execution_count": 0,
      "outputs": [
        {
          "output_type": "execute_result",
          "data": {
            "text/plain": [
              "3"
            ]
          },
          "metadata": {
            "tags": []
          },
          "execution_count": 34
        }
      ]
    },
    {
      "cell_type": "markdown",
      "metadata": {
        "id": "SycTr843Z6zK",
        "colab_type": "text"
      },
      "source": [
        "## Shape\n",
        "\n",
        "Shape é um atributo que os arrays têm (não um método):"
      ]
    },
    {
      "cell_type": "code",
      "metadata": {
        "id": "giuPutdRZ6zL",
        "colab_type": "code",
        "colab": {},
        "outputId": "1639e809-8362-444d-dd3b-2ad41a36062d"
      },
      "source": [
        "# Vector\n",
        "arr.shape"
      ],
      "execution_count": 0,
      "outputs": [
        {
          "output_type": "execute_result",
          "data": {
            "text/plain": [
              "(25,)"
            ]
          },
          "metadata": {
            "tags": []
          },
          "execution_count": 35
        }
      ]
    },
    {
      "cell_type": "code",
      "metadata": {
        "id": "rpYmzqBtZ6zP",
        "colab_type": "code",
        "colab": {},
        "outputId": "991179e3-7c35-4418-a493-9745b40c1ccd"
      },
      "source": [
        "arr.reshape(1,25)"
      ],
      "execution_count": 0,
      "outputs": [
        {
          "output_type": "execute_result",
          "data": {
            "text/plain": [
              "array([[ 0,  1,  2,  3,  4,  5,  6,  7,  8,  9, 10, 11, 12, 13, 14, 15,\n",
              "        16, 17, 18, 19, 20, 21, 22, 23, 24]])"
            ]
          },
          "metadata": {
            "tags": []
          },
          "execution_count": 36
        }
      ]
    },
    {
      "cell_type": "code",
      "metadata": {
        "id": "Tc6ISrBzZ6zU",
        "colab_type": "code",
        "colab": {},
        "outputId": "93bf1f64-a14b-4b01-8fdb-b1c3788a0555"
      },
      "source": [
        "arr.reshape(1,25).shape"
      ],
      "execution_count": 0,
      "outputs": [
        {
          "output_type": "execute_result",
          "data": {
            "text/plain": [
              "(1, 25)"
            ]
          },
          "metadata": {
            "tags": []
          },
          "execution_count": 37
        }
      ]
    },
    {
      "cell_type": "code",
      "metadata": {
        "id": "YFX7gXMxZ6zh",
        "colab_type": "code",
        "colab": {},
        "outputId": "2a691bf4-8b36-4b03-a8ff-2eae91e281d2"
      },
      "source": [
        "arr.reshape(25,1)"
      ],
      "execution_count": 0,
      "outputs": [
        {
          "output_type": "execute_result",
          "data": {
            "text/plain": [
              "array([[ 0],\n",
              "       [ 1],\n",
              "       [ 2],\n",
              "       [ 3],\n",
              "       [ 4],\n",
              "       [ 5],\n",
              "       [ 6],\n",
              "       [ 7],\n",
              "       [ 8],\n",
              "       [ 9],\n",
              "       [10],\n",
              "       [11],\n",
              "       [12],\n",
              "       [13],\n",
              "       [14],\n",
              "       [15],\n",
              "       [16],\n",
              "       [17],\n",
              "       [18],\n",
              "       [19],\n",
              "       [20],\n",
              "       [21],\n",
              "       [22],\n",
              "       [23],\n",
              "       [24]])"
            ]
          },
          "metadata": {
            "tags": []
          },
          "execution_count": 38
        }
      ]
    },
    {
      "cell_type": "code",
      "metadata": {
        "id": "92pphAZ8Z6zt",
        "colab_type": "code",
        "colab": {},
        "outputId": "6f91aa3e-79c9-4a72-eb5f-e2f6ecc4b0a8"
      },
      "source": [
        "arr.reshape(25,1).shape"
      ],
      "execution_count": 0,
      "outputs": [
        {
          "output_type": "execute_result",
          "data": {
            "text/plain": [
              "(25, 1)"
            ]
          },
          "metadata": {
            "tags": []
          },
          "execution_count": 39
        }
      ]
    },
    {
      "cell_type": "markdown",
      "metadata": {
        "id": "umrFiiKbZ6z1",
        "colab_type": "text"
      },
      "source": [
        "### dtype\n",
        "Você também pode pegar o tipo de dados do objeto na matriz:"
      ]
    },
    {
      "cell_type": "code",
      "metadata": {
        "id": "tddav3uXZ6z4",
        "colab_type": "code",
        "colab": {},
        "outputId": "d870df6e-aa61-4623-a914-ed1d5e4cbfb6"
      },
      "source": [
        "print(arr.dtype)\n",
        "arrN.dtype"
      ],
      "execution_count": 0,
      "outputs": [
        {
          "output_type": "stream",
          "text": [
            "int32\n"
          ],
          "name": "stdout"
        },
        {
          "output_type": "execute_result",
          "data": {
            "text/plain": [
              "dtype('float64')"
            ]
          },
          "metadata": {
            "tags": []
          },
          "execution_count": 43
        }
      ]
    }
  ]
}